{
 "cells": [
  {
   "cell_type": "code",
   "execution_count": 7,
   "metadata": {
    "pycharm": {
     "is_executing": false
    }
   },
   "outputs": [],
   "source": [
    "# imports\n",
    "import sys\n",
    "import math\n",
    "from typing import Optional\n",
    "import networkx as nx\n",
    "import matplotlib.pyplot as plt"
   ]
  },
  {
   "cell_type": "code",
   "execution_count": 8,
   "metadata": {
    "pycharm": {
     "is_executing": false
    }
   },
   "outputs": [],
   "source": [
    "def draw_graph(G):\n",
    "    types = nx.get_node_attributes(G, 'type')\n",
    "    xs = nx.get_node_attributes(G, 'x')\n",
    "    ys = nx.get_node_attributes(G, 'y')\n",
    "    zs = nx.get_node_attributes(G, 'z')\n",
    "    bs = nx.get_node_attributes(G, 'b')\n",
    "    ls = nx.get_node_attributes(G, 'l')\n",
    "    rs = nx.get_node_attributes(G, 'r')\n",
    "    \n",
    "    nx.draw(G)"
   ]
  },
  {
   "cell_type": "code",
   "execution_count": 9,
   "metadata": {
    "pycharm": {
     "is_executing": false
    }
   },
   "outputs": [],
   "source": [
    "def create_graph_P1(x1, x2, x3, x4, y1, y2, y3, y4, z1, z2, z3, z4, r1, b1, b2, b3, b4, l1, l2, l3, l4):\n",
    "    G = nx.Graph()\n",
    "    \n",
    "    G.add_node(\"v1\", type='v', x=x1, y=y1, z=z1)\n",
    "    G.add_node(\"v2\", type='v', x=x2, y=y2, z=z2)\n",
    "    G.add_node(\"v3\", type='v', x=x3, y=y3, z=z3)\n",
    "    G.add_node(\"e1\", type='e', b=b1, l=l1)\n",
    "    G.add_node(\"e2\", type='e', b=b2, l=l2)\n",
    "    G.add_node(\"e3\", type='e', b=b3, l=l3)\n",
    "    G.add_node(\"i1\", type='i', r=r1)\n",
    "\n",
    "    G.add_edge(\"i1\", \"v1\")\n",
    "    G.add_edge(\"i1\", \"v2\")\n",
    "    G.add_edge(\"i1\", \"v3\")\n",
    "    \n",
    "    G.add_edge(\"e1\", \"v1\")\n",
    "    G.add_edge(\"e1\", \"v2\")\n",
    "    \n",
    "    G.add_edge(\"e2\", \"v2\")\n",
    "    G.add_edge(\"e2\", \"v3\")\n",
    "    \n",
    "    G.add_edge(\"e3\", \"v1\")\n",
    "    G.add_edge(\"e3\", \"v3\")\n",
    "    \n",
    "    return G"
   ]
  },
  {
   "cell_type": "code",
   "execution_count": 10,
   "outputs": [],
   "source": [
    "def check_type_P1(G: nx.Graph) -> bool:\n",
    "    r1 = G.nodes[\"i1\"]['r']\n",
    "    b1 = G.nodes[\"e1\"]['b']\n",
    "    l1 = G.nodes[\"e1\"]['l']\n",
    "    l2 = G.nodes[\"e2\"]['l']\n",
    "    l3 = G.nodes[\"e3\"]['l']\n",
    "    \n",
    "    return r1 and b1 and l1 >= l2 and l1 >= l3 "
   ],
   "metadata": {
    "collapsed": false,
    "pycharm": {
     "name": "#%%\n",
     "is_executing": false
    }
   }
  },
  {
   "cell_type": "code",
   "execution_count": 29,
   "metadata": {
    "pycharm": {
     "is_executing": false
    }
   },
   "outputs": [],
   "source": [
    "def transform_P1(G: nx.Graph) -> Optional[nx.Graph]:\n",
    "    if not check_type_P1(G):\n",
    "        return None\n",
    "    \n",
    "    x3 = G.nodes[\"v3\"]['x']\n",
    "    y3 = G.nodes[\"v3\"]['y']\n",
    "    z3 = G.nodes[\"v3\"]['z']\n",
    "    \n",
    "    l4 = G.nodes[\"e1\"]['l'] / 2\n",
    "    b4 = G.nodes[\"e1\"]['b']\n",
    "    l5 = G.nodes[\"e1\"]['l'] / 2\n",
    "    b5 = G.nodes[\"e1\"]['b']\n",
    "    x4 = (G.nodes[\"v1\"]['x'] + G.nodes[\"v2\"]['x']) / 2\n",
    "    y4 = (G.nodes[\"v1\"]['y'] + G.nodes[\"v2\"]['y']) / 2\n",
    "    z4 = (G.nodes[\"v1\"]['z'] + G.nodes[\"v2\"]['z']) / 2\n",
    "    l6 = math.sqrt(math.pow(x3 - x4, 2) + math.pow(y3 - y4, 2) + math.pow(z3 - z4, 2))\n",
    "    b6 = False\n",
    "    r2 = False\n",
    "    r3 = False\n",
    "    \n",
    "    G.remove_edge(\"i1\", 'v1')\n",
    "    G.remove_edge(\"i1\", 'v2')\n",
    "    G.remove_edge(\"i1\", 'v3')\n",
    "    G.remove_node(\"i1\")\n",
    "\n",
    "    G.add_node(\"i2\", type='i', r=r2)\n",
    "    G.add_node(\"i3\", type='i', r=r3)\n",
    "    \n",
    "    G.add_node(\"e4\", type='e', b=b4, l=l4)\n",
    "    G.add_node(\"e5\", type='e', b=b5, l=l5)\n",
    "    G.add_node(\"e6\", type='e', b=b6, l=l6)\n",
    "\n",
    "    G.add_node(\"v4\", type='v', x=x4, y=y4, z=z4)\n",
    "    \n",
    "    G.add_edge(\"v3\", \"e6\")\n",
    "    G.add_edge(\"v4\", \"e6\")\n",
    "    \n",
    "    G.add_edge(\"v1\", \"e4\")\n",
    "    G.add_edge(\"v4\", \"e4\")\n",
    "    \n",
    "    G.add_edge(\"v1\", \"i2\")\n",
    "    G.add_edge(\"v3\", \"i2\")\n",
    "    G.add_edge(\"v4\", \"i2\")\n",
    "    \n",
    "    G.add_edge(\"v2\", \"e5\")\n",
    "    G.add_edge(\"v4\", \"e5\")\n",
    "    \n",
    "    G.add_edge(\"v2\", \"i3\")\n",
    "    G.add_edge(\"v3\", \"i3\")\n",
    "    G.add_edge(\"v4\", \"i3\")\n",
    "    \n",
    "    return G"
   ]
  },
  {
   "cell_type": "code",
   "execution_count": 38,
   "outputs": [
    {
     "data": {
      "text/plain": "<Figure size 432x288 with 1 Axes>",
      "image/png": "[encoded data removed]"
     },
     "metadata": {},
     "output_type": "display_data"
    }
   ],
   "source": [
    "g = create_graph_P1(x1=1, x2=3, x3=1, x4=2, y1=2, y2=6, y3=5, y4=4, z1=3, z2=9, z3=5, z4=6, r1=True, b1=True, b2=False, \n",
    "             b3=False, b4=False, l1=4, l2=4, l3=4, l4=5)\n",
    "draw_graph(transform_P1(g))"
   ],
   "metadata": {
    "collapsed": false,
    "pycharm": {
     "name": "#%%\n",
     "is_executing": false
    }
   }
  },
  {
   "cell_type": "code",
   "execution_count": 13,
   "metadata": {
    "pycharm": {
     "is_executing": false
    }
   },
   "outputs": [],
   "source": [
    "def create_graph_P2(x1, x2, x3, x4, y1, y2, y3, y4, z1, z2, z3, z4, r1, b1, b2, b3, b4, l1, l2, l3, l4):\n",
    "    \n",
    "    return G"
   ]
  },
  {
   "cell_type": "code",
   "execution_count": 14,
   "metadata": {
    "pycharm": {
     "is_executing": false
    }
   },
   "outputs": [],
   "source": [
    "def transform_P2(G):\n",
    "    \n",
    "    return G"
   ]
  },
  {
   "cell_type": "code",
   "execution_count": 15,
   "metadata": {
    "pycharm": {
     "is_executing": false
    }
   },
   "outputs": [],
   "source": [
    "def create_graph_P3(x1, x2, x3, x4, y1, y2, y3, y4, z1, z2, z3, z4, r1, b1, b2, b3, b4, l1, l2, l3, l4):\n",
    "    G = nx.Graph()\n",
    "    G.add_node('v1', type='v', x=x1, y=y1, z=z1)\n",
    "    G.add_node('v2', type='v', x=x2, y=y2, z=z2)\n",
    "    G.add_node('v3', type='v', x=x3, y=y3, z=z3)\n",
    "    G.add_node('v4', type='v', x=x4, y=y4, z=z4)\n",
    "    G.add_node('e1', type='e', b=b1, l=l1)\n",
    "    G.add_node('e2', type='e', b=b2, l=l2)\n",
    "    G.add_node('e3', type='e', b=b3, l=l3)\n",
    "    G.add_node('e4', type='e', b=b4, l=l4)\n",
    "    G.add_node('i1', type='i', r=r1)\n",
    "\n",
    "    G.add_edge('e1', 'v1')\n",
    "    G.add_edge('e1', 'v4')\n",
    "    G.add_edge('e2', 'v2')\n",
    "    G.add_edge('e2', 'v4')\n",
    "    G.add_edge('e3', 'v2')\n",
    "    G.add_edge('e3', 'v3')\n",
    "    G.add_edge('e4', 'v1')\n",
    "    G.add_edge('e4', 'v3')\n",
    "    G.add_edge('i1', 'v1')\n",
    "    G.add_edge('i1', 'v2')\n",
    "    G.add_edge('i1', 'v3')\n",
    "    \n",
    "    return G"
   ]
  },
  {
   "cell_type": "code",
   "execution_count": 16,
   "metadata": {
    "pycharm": {
     "is_executing": false
    }
   },
   "outputs": [],
   "source": [
    "def check_type_P3(G):\n",
    "    l1 = G.nodes['e1']['l']\n",
    "    l2 = G.nodes['e2']['l']\n",
    "    l3 = G.nodes['e3']['l']\n",
    "    l4 = G.nodes['e4']['l']\n",
    "    \n",
    "    return ((l1 + l2 >= l3) and (l1 + l2 >= l4))"
   ]
  },
  {
   "cell_type": "code",
   "execution_count": 17,
   "metadata": {
    "pycharm": {
     "is_executing": false
    }
   },
   "outputs": [],
   "source": [
    "def transform_P3(G):\n",
    "    r2 = False\n",
    "    r3 = False\n",
    "    x4 = G.nodes['v3']['x']\n",
    "    y4 = G.nodes['v3']['y']\n",
    "    z4 = G.nodes['v3']['z']\n",
    "    x2 = G.nodes['v4']['x']\n",
    "    y2 = G.nodes['v4']['y']\n",
    "    z2 = G.nodes['v4']['z']\n",
    "    l5 = math.sqrt(math.pow(x2 - x4, 2) + math.pow(y2 - y4, 2) + math.pow(z2 - z4, 2))\n",
    "    b5 = False\n",
    "    G.remove_edge('i1', 'v1')\n",
    "    G.remove_edge('i1', 'v2')\n",
    "    G.remove_edge('i1', 'v3')\n",
    "    G.remove_node('i1')\n",
    "    G.add_node('i2', type='i', r=r2)\n",
    "    G.add_node('i3', type='i', r=r3)\n",
    "    G.add_node('e5', type='e', b=b5, l=l5)\n",
    "    G.add_edge('v3', 'e5')\n",
    "    G.add_edge('v4', 'e5')\n",
    "    G.add_edge('v1', 'i2')\n",
    "    G.add_edge('v3', 'i2')\n",
    "    G.add_edge('v4', 'i2')\n",
    "    G.add_edge('v2', 'i3')\n",
    "    G.add_edge('v3', 'i3')\n",
    "    G.add_edge('v4', 'i3')\n",
    "    \n",
    "    return G"
   ]
  },
  {
   "cell_type": "code",
   "execution_count": 18,
   "metadata": {
    "pycharm": {
     "is_executing": false
    }
   },
   "outputs": [
    {
     "data": {
      "text/plain": "<Figure size 432x288 with 1 Axes>",
      "image/png": "[encoded data removed]"
     },
     "metadata": {},
     "output_type": "display_data"
    }
   ],
   "source": [
    "G = create_graph_P3(x1=1, x2=3, x3=1, x4=2, y1=2, y2=6, y3=5, y4=4, z1=3, z2=9, z3=5, z4=6, r1=True, b1=False, b2=False, \n",
    "             b3=False, b4=False, l1=4, l2=4, l3=4, l4=5)\n",
    "draw_graph(transform_P3(G))"
   ]
  },
  {
   "cell_type": "code",
   "execution_count": 19,
   "metadata": {
    "pycharm": {
     "is_executing": false
    }
   },
   "outputs": [],
   "source": [
    "def create_graph_P4(x1, x2, x3, x4, y1, y2, y3, y4, z1, z2, z3, z4, r1, b1, b2, b3, b4, l1, l2, l3, l4):\n",
    "    G = nx.Graph()\n",
    "    G.add_node('v1', type='v', x=x1, y=y1, z=z1)\n",
    "    G.add_node('v4', type='v', x=x2, y=y2, z=z2)\n",
    "    G.add_node('v2', type='v', x=x3, y=y3, z=z3)\n",
    "    G.add_node('v3', type='v', x=x4, y=y4, z=z4)\n",
    "    G.add_node('e1', type='e', b=b1, l=l1)\n",
    "    G.add_node('e2', type='e', b=b2, l=l2)\n",
    "    G.add_node('e3', type='e', b=b3, l=l3)\n",
    "    G.add_node('e4', type='e', b=b4, l=l4)\n",
    "    G.add_node('i1', type='i', r=r1)\n",
    "\n",
    "    G.add_edge('e1', 'v1')\n",
    "    G.add_edge('e1', 'v4')\n",
    "    G.add_edge('e2', 'v2')\n",
    "    G.add_edge('e2', 'v4')\n",
    "    G.add_edge('e3', 'v2')\n",
    "    G.add_edge('e3', 'v3')\n",
    "    G.add_edge('e4', 'v1')\n",
    "    G.add_edge('e4', 'v3')\n",
    "    G.add_edge('i1', 'v1')\n",
    "    G.add_edge('i1', 'v2')\n",
    "    G.add_edge('i1', 'v3')\n",
    "    return G"
   ]
  },
  {
   "cell_type": "code",
   "execution_count": 20,
   "metadata": {
    "pycharm": {
     "is_executing": false
    }
   },
   "outputs": [
    {
     "data": {
      "text/plain": "<Figure size 432x288 with 1 Axes>",
      "image/png": "[encoded data removed]"
     },
     "metadata": {},
     "output_type": "display_data"
    }
   ],
   "source": [
    "g = create_graph_P4(x1=1, x2=3, x3=1, x4=2, y1=2, y2=6, y3=5, y4=4, z1=3, z2=9, z3=5, z4=6, r1=True, b1=False, b2=False, \n",
    "             b3=False, b4=False, l1=4, l2=4, l3=4, l4=5)\n",
    "draw_graph(g)"
   ]
  },
  {
   "cell_type": "code",
   "execution_count": 21,
   "metadata": {
    "pycharm": {
     "is_executing": false
    }
   },
   "outputs": [
    {
     "traceback": [
      "\u001b[0;36m  File \u001b[0;32m\"<ipython-input-21-e01d94997e04>\"\u001b[0;36m, line \u001b[0;32m8\u001b[0m\n\u001b[0;31m    return b4 && (l4>(l1+l2))&&(l4>=l3)\u001b[0m\n\u001b[0m               ^\u001b[0m\n\u001b[0;31mSyntaxError\u001b[0m\u001b[0;31m:\u001b[0m invalid syntax\n"
     ],
     "ename": "SyntaxError",
     "evalue": "invalid syntax (<ipython-input-21-e01d94997e04>, line 8)",
     "output_type": "error"
    }
   ],
   "source": [
    "def check_type_P4(G):\n",
    "    l1 = G.nodes['e1']['l']\n",
    "    l2 = G.nodes['e2']['l']\n",
    "    l3 = G.nodes['e3']['l']\n",
    "    l4 = G.nodes['e4']['l']\n",
    "    b4 = G.nodes['e4']['b']\n",
    "    \n",
    "    return b4 && (l4>(l1+l2))&&(l4>=l3)"
   ]
  },
  {
   "cell_type": "code",
   "execution_count": null,
   "metadata": {
    "pycharm": {
     "is_executing": false
    }
   },
   "outputs": [],
   "source": [
    "def transform_P4(G):\n",
    "    \n",
    "    l4 = G.nodes['e4']['l']\n",
    "    b4 = G.nodes['e4']['b']\n",
    "    x1 = G.nodes['v1']['x']\n",
    "    y1 = G.nodes['v1']['y']\n",
    "    z1 = G.nodes['v1']['z']\n",
    "    x4 = G.nodes['v3']['x']\n",
    "    y4 = G.nodes['v3']['y']\n",
    "    z4 = G.nodes['v3']['z']\n",
    "    x3 = G.nodes['v2']['x']\n",
    "    y3 = G.nodes['v2']['y']\n",
    "    z3 = G.nodes['v2']['z']\n",
    "    \n",
    "    l5 = l4/2\n",
    "    b5 = b4\n",
    "    l6 = l4/2\n",
    "    b6 = b4\n",
    "    x5 = (x1+x4)/2\n",
    "    y5 = (y1+y4)/2\n",
    "    z5 = (z1+z4)/2\n",
    "    l7 = math.sqrt(math.pow(x3-x5, 2)+math.pow(y3-y5, 2)+math.pow(z3-z5, 2))\n",
    "    b7 = False\n",
    "    r2 = False\n",
    "    r3 = False\n",
    "    \n",
    "    \n",
    "    G.remove_edge('i1', 'v1')\n",
    "    G.remove_edge('i1', 'v2')\n",
    "    G.remove_edge('i1', 'v3')\n",
    "    G.remove_node('i1')\n",
    "    \n",
    "    g.add_node('v5', type='v', x=x5, y=y5, z=z5)\n",
    "    g.add_node('e5', type='e', b=b5, l=l5)\n",
    "    g.add_node('e6', type='e', b=b6, l=l6)\n",
    "    g.add_node('e7', type='e', b=b7, l=l7)\n",
    "    \n",
    "    g.add_edge('e6', 'v1')\n",
    "    g.add_edge('e6', 'v5')\n",
    "    g.add_edge('e5', 'v3')\n",
    "    g.add_edge('e5', 'v5')\n",
    "    g.add_edge('e7', 'v2')\n",
    "    g.add_edge('e7', 'v5')\n",
    "    \n",
    "    G.add_node('i2', type='i', r=r2)\n",
    "    G.add_node('i3', type='i', r=r3)\n",
    "    \n",
    "    G.add_edge('i2', 'v5')\n",
    "    G.add_edge('i2', 'v2')\n",
    "    G.add_edge('i2', 'v3')\n",
    "    \n",
    "    G.add_edge('i3', 'v5')\n",
    "    G.add_edge('i3', 'v1')\n",
    "    G.add_edge('i3', 'v2')\n",
    "    return G"
   ]
  },
  {
   "cell_type": "code",
   "execution_count": null,
   "metadata": {
    "pycharm": {
     "is_executing": false
    }
   },
   "outputs": [],
   "source": [
    "g = create_graph_P4(x1=1, x2=3, x3=1, x4=2, y1=2, y2=6, y3=5, y4=4, z1=3, z2=9, z3=5, z4=6, r1=True, b1=False, b2=False, \n",
    "             b3=False, b4=False, l1=4, l2=4, l3=4, l4=5)\n",
    "draw_graph(transform_P4(g))"
   ]
  },
  {
   "cell_type": "code",
   "execution_count": null,
   "metadata": {
    "pycharm": {
     "is_executing": false
    }
   },
   "outputs": [],
   "source": [
    "def create_graph_P5(x1, x2, x3, x4, y1, y2, y3, y4, z1, z2, z3, z4, r1, b1, b2, b3, b4, l1, l2, l3, l4):\n",
    "    \n",
    "    return G"
   ]
  },
  {
   "cell_type": "code",
   "execution_count": null,
   "metadata": {
    "pycharm": {
     "is_executing": false
    }
   },
   "outputs": [],
   "source": [
    "def transform_P5(G):\n",
    "    \n",
    "    return G"
   ]
  },
  {
   "cell_type": "code",
   "execution_count": null,
   "metadata": {
    "pycharm": {
     "is_executing": false
    }
   },
   "outputs": [],
   "source": [
    "class TestP5(unittest.TestCase):\n",
    "    def test_check_type_1(self):\n",
    "        b3 = False\n",
    "        b4 = False\n",
    "        l4 = 8\n",
    "        l3 = 8\n",
    "        l1 = 1\n",
    "        l2 = 1\n",
    "        G = create_graph_P5(x1=1, x2=1, x3=1, x4=1, y1=1, y2=1, y3=1, y4=1, z1=1, z2=1, z3=1, z4=1, r1=False, b1=False, b2=False, b3=b3, b4=b4, l1=l1, l2=l2, l3=l3, l4=l4)\n",
    "        self.assertTrue(check_type_P5(G))\n",
    "    \n",
    "    def test_check_type_2(self):\n",
    "        b3 = True\n",
    "        b4 = False\n",
    "        l4 = 8\n",
    "        l3 = 8\n",
    "        l1 = 1\n",
    "        l2 = 1\n",
    "        G = create_graph_P5(x1=1, x2=1, x3=1, x4=1, y1=1, y2=1, y3=1, y4=1, z1=1, z2=1, z3=1, z4=1, r1=False, b1=False, b2=False, b3=b3, b4=b4, l1=l1, l2=l2, l3=l3, l4=l4)\n",
    "        self.assertFalse(check_type_P5(G))\n",
    "        \n",
    "    def test_check_type_3(self):\n",
    "        b3 = False\n",
    "        b4 = False\n",
    "        l4 = 7\n",
    "        l3 = 8\n",
    "        l1 = 1\n",
    "        l2 = 1\n",
    "        G = create_graph_P5(x1=1, x2=1, x3=1, x4=1, y1=1, y2=1, y3=1, y4=1, z1=1, z2=1, z3=1, z4=1, r1=False, b1=False, b2=False, b3=b3, b4=b4, l1=l1, l2=l2, l3=l3, l4=l4)\n",
    "        self.assertFalse(check_type_P5(G))\n",
    "        \n",
    "    def test_check_type_4(self):\n",
    "        b3 = False\n",
    "        b4 = False\n",
    "        l4 = 8\n",
    "        l3 = 8\n",
    "        l1 = 5\n",
    "        l2 = 5\n",
    "        G = create_graph_P5(x1=1, x2=1, x3=1, x4=1, y1=1, y2=1, y3=1, y4=1, z1=1, z2=1, z3=1, z4=1, r1=False, b1=False, b2=False, b3=b3, b4=b4, l1=l1, l2=l2, l3=l3, l4=l4)\n",
    "        self.assertFalse(check_type_P5(G))\n",
    "        \n",
    "    def test_check_type_5(self):\n",
    "        b3 = False\n",
    "        b4 = False\n",
    "        l4 = 8\n",
    "        l3 = 8\n",
    "        l1 = 5\n",
    "        l2 = 3\n",
    "        G = create_graph_P5(x1=1, x2=1, x3=1, x4=1, y1=1, y2=1, y3=1, y4=1, z1=1, z2=1, z3=1, z4=1, r1=False, b1=False, b2=False, b3=b3, b4=b4, l1=l1, l2=l2, l3=l3, l4=l4)\n",
    "        self.assertFalse(check_type_P5(G))\n",
    "        \n",
    "    def test_check_type_6(self):\n",
    "        b3 = True\n",
    "        b4 = False\n",
    "        l4 = 8\n",
    "        l3 = 8\n",
    "        l1 = 5\n",
    "        l2 = 5\n",
    "        G = create_graph_P5(x1=1, x2=1, x3=1, x4=1, y1=1, y2=1, y3=1, y4=1, z1=1, z2=1, z3=1, z4=1, r1=False, b1=False, b2=False, b3=b3, b4=b4, l1=l1, l2=l2, l3=l3, l4=l4)\n",
    "        self.assertFalse(check_type_P5(G))\n",
    "       \n",
    "    def test_calculations(self):\n",
    "        b3 = False\n",
    "        b4 = False\n",
    "        l4 = 8\n",
    "        l3 = 8\n",
    "        l1 = 1\n",
    "        l2 = 1\n",
    "        G = create_graph_P5(x1=1, x2=1, x3=1, x4=1, y1=1, y2=1, y3=1, y4=1, z1=1, z2=1, z3=1, z4=1, r1=False, b1=False, b2=False, b3=b3, b4=b4, l1=l1, l2=l2, l3=l3, l4=l4)\n",
    "        G = transform_P5(G)\n",
    "        self.assertEqual(G.nodes['e5']['b'], G.nodes['e4']['b'])\n",
    "        self.assertEqual(G.nodes['e6']['b'], G.nodes['e4']['b'])\n",
    "        self.assertEqual(G.nodes['e5']['l'], G.nodes['e4']['l']/2)\n",
    "        self.assertEqual(G.nodes['e6']['l'], G.nodes['e4']['l']/2)\n",
    "        self.assertEqual(G.nodes['v5']['x'], (G.nodes['v1']['x'] + G.nodes['v4']['x'])/2)\n",
    "        self.assertEqual(G.nodes['v5']['y'], (G.nodes['v1']['y'] + G.nodes['v4']['y'])/2)\n",
    "        self.assertEqual(G.nodes['v5']['z'], (G.nodes['v1']['z'] + G.nodes['v4']['z'])/2)\n",
    "        self.assertFalse(G.nodes['v4']['b'])\n",
    "        self.assertFalse(G.nodes['i2']['r'])\n",
    "        self.assertFalse(G.nodes['i3']['r'])\n",
    "        self.assertEqual(G.nodes['e7']['l'], math.sqrt(math.pow(G.nodes['v3']['x'] - G.nodes['v5']['x'], 2) + math.pow(G.nodes['v3']['y'] - G.nodes['v5']['y'], 2) + math.pow(G.nodes['v3']['z'] - G.nodes['v5']['z'], 2)))\n",
    "       \n",
    "unittest.main(argv=[''], verbosity=2, exit=False)"
   ]
  },
  {
   "cell_type": "code",
   "execution_count": null,
   "metadata": {
    "pycharm": {
     "is_executing": false
    }
   },
   "outputs": [],
   "source": [
    "def create_graph_P6(x1, x2, x3, x4, y1, y2, y3, y4, z1, z2, z3, z4, r1, b1, b2, b3, b4, l1, l2, l3, l4):\n",
    "    \n",
    "    return G"
   ]
  },
  {
   "cell_type": "code",
   "execution_count": null,
   "metadata": {
    "pycharm": {
     "is_executing": false
    }
   },
   "outputs": [],
   "source": [
    "def transform_P6(G):\n",
    "    \n",
    "    return G"
   ]
  },
  {
   "cell_type": "code",
   "execution_count": null,
   "metadata": {
    "pycharm": {
     "is_executing": false
    }
   },
   "outputs": [],
   "source": [
    "def create_graph_P7(x1, x2, x3, x4, y1, y2, y3, y4, z1, z2, z3, z4, r1, b1, b2, b3, b4, l1, l2, l3, l4):\n",
    "\n",
    "    return G"
   ]
  },
  {
   "cell_type": "code",
   "execution_count": null,
   "metadata": {
    "pycharm": {
     "is_executing": false
    }
   },
   "outputs": [],
   "source": [
    "def transform_P7(G):\n",
    "    \n",
    "    return G"
   ]
  },
  {
   "cell_type": "code",
   "execution_count": null,
   "metadata": {
    "pycharm": {
     "is_executing": false
    }
   },
   "outputs": [],
   "source": [
    "def create_graph_P8(x1, x2, x3, x4, y1, y2, y3, y4, z1, z2, z3, z4, r1, b1, b2, b3, b4, l1, l2, l3, l4):\n",
    "    \n",
    "    return G"
   ]
  },
  {
   "cell_type": "code",
   "execution_count": null,
   "metadata": {
    "pycharm": {
     "is_executing": false
    }
   },
   "outputs": [],
   "source": [
    "def transform_P8(G):\n",
    "    \n",
    "    return G"
   ]
  },
  {
   "cell_type": "code",
   "execution_count": null,
   "metadata": {
    "pycharm": {
     "is_executing": false
    }
   },
   "outputs": [],
   "source": [
    "def create_graph_P9(x1, x2, x3, x4, y1, y2, y3, y4, z1, z2, z3, z4, r1, b1, b2, b3, b4, l1, l2, l3, l4):\n",
    "    \n",
    "    return G"
   ]
  },
  {
   "cell_type": "code",
   "execution_count": null,
   "metadata": {
    "pycharm": {
     "is_executing": false
    }
   },
   "outputs": [],
   "source": [
    "def transform_P9(G):\n",
    "    \n",
    "    return G"
   ]
  },
  {
   "cell_type": "code",
   "execution_count": null,
   "metadata": {
    "pycharm": {
     "is_executing": false
    }
   },
   "outputs": [],
   "source": []
  }
 ],
 "metadata": {
  "kernelspec": {
   "display_name": "Python 3",
   "language": "python",
   "name": "python3"
  },
  "language_info": {
   "codemirror_mode": {
    "name": "ipython",
    "version": 3
   },
   "file_extension": ".py",
   "mimetype": "text/x-python",
   "name": "python",
   "nbconvert_exporter": "python",
   "pygments_lexer": "ipython3",
   "version": "3.7.3"
  },
  "pycharm": {
   "stem_cell": {
    "cell_type": "raw",
    "source": [],
    "metadata": {
     "collapsed": false
    }
   }
  }
 },
 "nbformat": 4,
 "nbformat_minor": 2
}