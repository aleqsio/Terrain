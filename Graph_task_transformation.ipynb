{
 "cells": [
  {
   "cell_type": "code",
   "execution_count": 1,
   "metadata": {},
   "outputs": [],
   "source": [
    "# imports\n",
    "import sys\n",
    "import math\n",
    "import networkx as nx\n",
    "import matplotlib.pyplot as plt"
   ]
  },
  {
   "cell_type": "code",
   "execution_count": 2,
   "metadata": {},
   "outputs": [],
   "source": [
    "def draw_graph(G):\n",
    "    types = nx.get_node_attributes(G, 'type')\n",
    "    xs = nx.get_node_attributes(G, 'x')\n",
    "    ys = nx.get_node_attributes(G, 'y')\n",
    "    zs = nx.get_node_attributes(G, 'z')\n",
    "    bs = nx.get_node_attributes(G, 'b')\n",
    "    ls = nx.get_node_attributes(G, 'l')\n",
    "    rs = nx.get_node_attributes(G, 'r')\n",
    "    \n",
    "    nx.draw(G)"
   ]
  },
  {
   "cell_type": "code",
   "execution_count": 3,
   "metadata": {},
   "outputs": [],
   "source": [
    "def create_graph_P1(x1, x2, x3, x4, y1, y2, y3, y4, z1, z2, z3, z4, r1, b1, b2, b3, b4, l1, l2, l3, l4):\n",
    "    \n",
    "    return G"
   ]
  },
  {
   "cell_type": "code",
   "execution_count": 4,
   "metadata": {},
   "outputs": [],
   "source": [
    "def transform_P1(G):\n",
    "    \n",
    "    return G"
   ]
  },
  {
   "cell_type": "code",
   "execution_count": 5,
   "metadata": {},
   "outputs": [],
   "source": [
    "def create_graph_P2(x1, x2, x3, x4, y1, y2, y3, y4, z1, z2, z3, z4, r1, b1, b2, b3, b4, l1, l2, l3, l4):\n",
    "    \n",
    "    return G"
   ]
  },
  {
   "cell_type": "code",
   "execution_count": 6,
   "metadata": {},
   "outputs": [],
   "source": [
    "def transform_P2(G):\n",
    "    \n",
    "    return G"
   ]
  },
  {
   "cell_type": "code",
   "execution_count": 8,
   "metadata": {},
   "outputs": [],
   "source": [
    "def create_graph_P3(x1, x2, x3, x4, y1, y2, y3, y4, z1, z2, z3, z4, r1, b1, b2, b3, b4, l1, l2, l3, l4):\n",
    "    G = nx.Graph()\n",
    "    G.add_node('v1', type='v', x=x1, y=y1, z=z1)\n",
    "    G.add_node('v2', type='v', x=x2, y=y2, z=z2)\n",
    "    G.add_node('v3', type='v', x=x3, y=y3, z=z3)\n",
    "    G.add_node('v4', type='v', x=x4, y=y4, z=z4)\n",
    "    G.add_node('e1', type='e', b=b1, l=l1)\n",
    "    G.add_node('e2', type='e', b=b2, l=l2)\n",
    "    G.add_node('e3', type='e', b=b3, l=l3)\n",
    "    G.add_node('e4', type='e', b=b4, l=l4)\n",
    "    G.add_node('i1', type='i', r=r1)\n",
    "\n",
    "    G.add_edge('e1', 'v1')\n",
    "    G.add_edge('e1', 'v4')\n",
    "    G.add_edge('e2', 'v2')\n",
    "    G.add_edge('e2', 'v4')\n",
    "    G.add_edge('e3', 'v2')\n",
    "    G.add_edge('e3', 'v3')\n",
    "    G.add_edge('e4', 'v1')\n",
    "    G.add_edge('e4', 'v3')\n",
    "    G.add_edge('i1', 'v1')\n",
    "    G.add_edge('i1', 'v2')\n",
    "    G.add_edge('i1', 'v3')\n",
    "    \n",
    "    return G"
   ]
  },
  {
   "cell_type": "code",
   "execution_count": 12,
   "metadata": {},
   "outputs": [],
   "source": [
    "def check_type_P3(G):\n",
    "    l1 = G.nodes['e1']['l']\n",
    "    l2 = G.nodes['e2']['l']\n",
    "    l3 = G.nodes['e3']['l']\n",
    "    l4 = G.nodes['e4']['l']\n",
    "    \n",
    "    return ((l1 + l2 >= l3) and (l1 + l2 >= l4))"
   ]
  },
  {
   "cell_type": "code",
   "execution_count": 11,
   "metadata": {},
   "outputs": [],
   "source": [
    "def transform_P3(G):\n",
    "    r2 = False\n",
    "    r3 = False\n",
    "    x4 = G.nodes['v3']['x']\n",
    "    y4 = G.nodes['v3']['y']\n",
    "    z4 = G.nodes['v3']['z']\n",
    "    x2 = G.nodes['v4']['x']\n",
    "    y2 = G.nodes['v4']['y']\n",
    "    z2 = G.nodes['v4']['z']\n",
    "    l5 = math.sqrt(math.pow(x2 - x4, 2) + math.pow(y2 - y4, 2) + math.pow(z2 - z4, 2))\n",
    "    b5 = False\n",
    "    G.remove_edge('i1', 'v1')\n",
    "    G.remove_edge('i1', 'v2')\n",
    "    G.remove_edge('i1', 'v3')\n",
    "    G.remove_node('i1')\n",
    "    G.add_node('i2', type='i', r=r2)\n",
    "    G.add_node('i3', type='i', r=r3)\n",
    "    G.add_node('e5', type='e', b=b5, l=l5)\n",
    "    G.add_edge('v3', 'e5')\n",
    "    G.add_edge('v4', 'e5')\n",
    "    G.add_edge('v1', 'i2')\n",
    "    G.add_edge('v3', 'i2')\n",
    "    G.add_edge('v4', 'i2')\n",
    "    G.add_edge('v2', 'i3')\n",
    "    G.add_edge('v3', 'i3')\n",
    "    G.add_edge('v4', 'i3')\n",
    "    \n",
    "    return G"
   ]
  },
  {
   "cell_type": "code",
   "execution_count": 15,
   "metadata": {},
   "outputs": [
    {
     "data": {
      "image/png": "[encoded data removed]",
      "text/plain": [
       "<Figure size 432x288 with 1 Axes>"
      ]
     },
     "metadata": {},
     "output_type": "display_data"
    }
   ],
   "source": [
    "G = create_graph_P3(x1=1, x2=3, x3=1, x4=2, y1=2, y2=6, y3=5, y4=4, z1=3, z2=9, z3=5, z4=6, r1=True, b1=False, b2=False, \n",
    "             b3=False, b4=False, l1=4, l2=4, l3=4, l4=5)\n",
    "draw_graph(transform_P3(G))"
   ]
  },
  {
   "cell_type": "code",
   "execution_count": 13,
   "metadata": {},
   "outputs": [],
   "source": [
    "def create_graph_P4(x1, x2, x3, x4, y1, y2, y3, y4, z1, z2, z3, z4, r1, b1, b2, b3, b4, l1, l2, l3, l4):\n",
    "    \n",
    "    return G"
   ]
  },
  {
   "cell_type": "code",
   "execution_count": 14,
   "metadata": {},
   "outputs": [],
   "source": [
    "def transform_P4(G):\n",
    "    \n",
    "    return G"
   ]
  },
  {
   "cell_type": "code",
   "execution_count": 15,
   "metadata": {},
   "outputs": [],
   "source": [
    "def create_graph_P5(x1, x2, x3, x4, y1, y2, y3, y4, z1, z2, z3, z4, r1, b1, b2, b3, b4, l1, l2, l3, l4):\n",
    "    \n",
    "    return G"
   ]
  },
  {
   "cell_type": "code",
   "execution_count": 16,
   "metadata": {},
   "outputs": [],
   "source": [
    "def transform_P5(G):\n",
    "    \n",
    "    return G"
   ]
  },
  {
   "cell_type": "code",
   "execution_count": 17,
   "metadata": {},
   "outputs": [],
   "source": [
    "def create_graph_P6(x1, x2, x3, x4, y1, y2, y3, y4, z1, z2, z3, z4, r1, b1, b2, b3, b4, l1, l2, l3, l4):\n",
    "    \n",
    "    return G"
   ]
  },
  {
   "cell_type": "code",
   "execution_count": 18,
   "metadata": {},
   "outputs": [],
   "source": [
    "def transform_P6(G):\n",
    "    \n",
    "    return G"
   ]
  },
  {
   "cell_type": "code",
   "execution_count": 19,
   "metadata": {},
   "outputs": [],
   "source": [
    "def create_graph_P7(x1, x2, x3, x4, y1, y2, y3, y4, z1, z2, z3, z4, r1, b1, b2, b3, b4, l1, l2, l3, l4):\n",
    "    \n",
    "    return G"
   ]
  },
  {
   "cell_type": "code",
   "execution_count": 20,
   "metadata": {},
   "outputs": [],
   "source": [
    "def transform_P7(G):\n",
    "    \n",
    "    return G"
   ]
  },
  {
   "cell_type": "code",
   "execution_count": 21,
   "metadata": {},
   "outputs": [],
   "source": [
    "def create_graph_P8(x1, x2, x3, x4, y1, y2, y3, y4, z1, z2, z3, z4, r1, b1, b2, b3, b4, l1, l2, l3, l4):\n",
    "    \n",
    "    return G"
   ]
  },
  {
   "cell_type": "code",
   "execution_count": 22,
   "metadata": {},
   "outputs": [],
   "source": [
    "def transform_P8(G):\n",
    "    \n",
    "    return G"
   ]
  },
  {
   "cell_type": "code",
   "execution_count": 23,
   "metadata": {},
   "outputs": [],
   "source": [
    "def create_graph_P9(x1, x2, x3, x4, y1, y2, y3, y4, z1, z2, z3, z4, r1, b1, b2, b3, b4, l1, l2, l3, l4):\n",
    "    \n",
    "    return G"
   ]
  },
  {
   "cell_type": "code",
   "execution_count": 24,
   "metadata": {},
   "outputs": [],
   "source": [
    "def transform_P9(G):\n",
    "    \n",
    "    return G"
   ]
  },
  {
   "cell_type": "code",
   "execution_count": null,
   "metadata": {},
   "outputs": [],
   "source": []
  }
 ],
 "metadata": {
  "kernelspec": {
   "display_name": "Python 3",
   "language": "python",
   "name": "python3"
  },
  "language_info": {
   "codemirror_mode": {
    "name": "ipython",
    "version": 3
   },
   "file_extension": ".py",
   "mimetype": "text/x-python",
   "name": "python",
   "nbconvert_exporter": "python",
   "pygments_lexer": "ipython3",
   "version": "3.6.8"
  }
 },
 "nbformat": 4,
 "nbformat_minor": 2
}
