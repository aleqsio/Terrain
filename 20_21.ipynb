{
 "cells": [
  {
   "cell_type": "markdown",
   "metadata": {},
   "source": [
    "# 20"
   ]
  },
  {
   "cell_type": "code",
   "execution_count": 36,
   "metadata": {},
   "outputs": [],
   "source": [
    "import numpy as np"
   ]
  },
  {
   "cell_type": "code",
   "execution_count": 86,
   "metadata": {},
   "outputs": [
    {
     "name": "stdout",
     "output_type": "stream",
     "text": [
      "v1: [-1.  0.  0.]\n",
      "v2: [-1.  -1.  -0.5]\n",
      "cross: [ 0.  -0.5  1. ]\n",
      "k: 0.0\n",
      "z: 0.05\n"
     ]
    },
    {
     "data": {
      "text/plain": [
       "0.05"
      ]
     },
     "execution_count": 86,
     "metadata": {},
     "output_type": "execute_result"
    }
   ],
   "source": [
    "# https://math.stackexchange.com/questions/28043/finding-the-z-value-on-a-plane-with-x-y-values\n",
    "def find_approximated_point(triangle, x, y):\n",
    "    v1 = np.subtract(triangle[0], triangle[1])\n",
    "    print('v1:', v1)\n",
    "    v2 = np.subtract(triangle[0], triangle[2])\n",
    "    print('v2:', v2)\n",
    "    cross = np.cross(v1, v2)\n",
    "    print('cross:', cross)\n",
    "    k = sum(np.multiply(cross, triangle[0]))\n",
    "    print('k:', k)\n",
    "    z = (1 / cross[2]) * (k - cross[0] * x - cross[1] * y)\n",
    "    print('z:', z)\n",
    "    return z\n",
    "    \n",
    "find_approximated_point(np.array([[0, 0, 0], [1, 0, 0], [1, 1, 0.5]]), 0.5, 0.1)"
   ]
  },
  {
   "cell_type": "code",
   "execution_count": 97,
   "metadata": {},
   "outputs": [],
   "source": [
    "def sign(p1, p2, p3):\n",
    "    return (p1[0] - p3[0]) * (p2[1] - p3[1]) - (p2[0] - p3[0]) * (p1[1] - p3[1]);\n",
    "\n",
    "def point_in_triangle(triangle, point):\n",
    "    d1 = sign(point, triangle[0], triangle[1]);\n",
    "    d2 = sign(point, triangle[1], triangle[2]);\n",
    "    d3 = sign(point, triangle[2], triangle[0]);\n",
    "    has_neg = (d1 < 0) or (d2 < 0) or (d3 < 0);\n",
    "    has_pos = (d1 > 0) or (d2 > 0) or (d3 > 0);\n",
    "    return not (has_neg and has_pos);"
   ]
  },
  {
   "cell_type": "code",
   "execution_count": 99,
   "metadata": {},
   "outputs": [
    {
     "name": "stdout",
     "output_type": "stream",
     "text": [
      "False\n"
     ]
    }
   ],
   "source": [
    "print(point_in_triangle([[0, 0, 0], [1, 0, 0], [1, 1, 0.5]], [0, 1, 0]))"
   ]
  },
  {
   "cell_type": "code",
   "execution_count": 100,
   "metadata": {},
   "outputs": [
    {
     "name": "stdout",
     "output_type": "stream",
     "text": [
      "v1: [-1  0  0]\n",
      "v2: [-1.  -1.  -0.5]\n",
      "cross: [ 0.  -0.5  1. ]\n",
      "k: 0.0\n",
      "z: 0.0\n"
     ]
    },
    {
     "data": {
      "text/plain": [
       "1.0"
      ]
     },
     "execution_count": 100,
     "metadata": {},
     "output_type": "execute_result"
    }
   ],
   "source": [
    "dimensions = 3\n",
    "\n",
    "def estimate_error(triangle, terrain_points):\n",
    "    in_triangle = filter(lambda point: point_in_triangle(triangle, point),  terrain_points)\n",
    "    approximated_points = [find_approximated_point(triangle, point[0], point[1]) for point in in_triangle]\n",
    "    \n",
    "    count_of_points = len(approximated_points)\n",
    "    \n",
    "    sum_of_squared_delta = []\n",
    "    sum_of_squares = []\n",
    "    for i in range(0, count_of_points):\n",
    "        approximated = approximated_points[i]\n",
    "        terrain = terrain_points[i]\n",
    "        sum_of_squared_delta.append(np.sum(np.square(np.subtract(approximated, terrain))))\n",
    "        sum_of_squares.append(np.sum(np.square(terrain)))\n",
    "        \n",
    "    return np.sum(sum_of_squared_delta) / np.sum(sum_of_squares)\n",
    "    \n",
    "terrain_points = [[0, 0, 0.2], [0, 1, -0.2]]\n",
    "\n",
    "estimate_error([[0, 0, 0], [1, 0, 0], [1, 1, 0.5]], terrain_points)"
   ]
  },
  {
   "cell_type": "markdown",
   "metadata": {},
   "source": [
    "# 21"
   ]
  },
  {
   "cell_type": "code",
   "execution_count": 101,
   "metadata": {},
   "outputs": [
    {
     "name": "stdout",
     "output_type": "stream",
     "text": [
      "v1: [-1  0  0]\n",
      "v2: [-1.  -1.  -0.5]\n",
      "cross: [ 0.  -0.5  1. ]\n",
      "k: 0.0\n",
      "z: 0.0\n"
     ]
    },
    {
     "data": {
      "text/plain": [
       "[[[0, 0, 0], [1, 0, 0], [1, 1, 0.5]]]"
      ]
     },
     "execution_count": 101,
     "metadata": {},
     "output_type": "execute_result"
    }
   ],
   "source": [
    "epsilon = 0.01\n",
    "\n",
    "to_refine = []\n",
    "terrain_points = [[0, 0, 0.2], [0, 1, -0.2]]\n",
    "triangles = [[[0, 0, 0], [1, 0, 0], [1, 1, 0.5]]]\n",
    "\n",
    "for t in triangles:\n",
    "    error = estimate_error(t, terrain_points)\n",
    "    if error > epsilon:\n",
    "        to_refine.append(t)\n",
    "        \n",
    "to_refine"
   ]
  },
  {
   "cell_type": "code",
   "execution_count": null,
   "metadata": {},
   "outputs": [],
   "source": []
  }
 ],
 "metadata": {
  "kernelspec": {
   "display_name": "Python 3",
   "language": "python",
   "name": "python3"
  },
  "language_info": {
   "codemirror_mode": {
    "name": "ipython",
    "version": 3
   },
   "file_extension": ".py",
   "mimetype": "text/x-python",
   "name": "python",
   "nbconvert_exporter": "python",
   "pygments_lexer": "ipython3",
   "version": "3.7.4"
  }
 },
 "nbformat": 4,
 "nbformat_minor": 2
}
